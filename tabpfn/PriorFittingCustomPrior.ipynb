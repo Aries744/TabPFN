{
 "cells": [
  {
   "cell_type": "markdown",
   "metadata": {
    "tags": []
   },
   "source": [
    "## Setup"
   ]
  },
  {
   "cell_type": "code",
   "execution_count": 1,
   "metadata": {},
   "outputs": [],
   "source": [
    "%load_ext autoreload\n",
    "\n",
    "%autoreload 2"
   ]
  },
  {
   "cell_type": "code",
   "execution_count": 2,
   "metadata": {},
   "outputs": [],
   "source": [
    "import random\n",
    "import time\n",
    "import warnings\n",
    "from datetime import datetime\n",
    "\n",
    "import torch\n",
    "\n",
    "import numpy as np\n",
    "\n",
    "import matplotlib.pyplot as plt\n",
    "#from scripts.differentiable_pfn_evaluation import eval_model_range\n",
    "# No string\n",
    "from scripts.model_builder import get_model, get_default_spec, save_model, load_model\n",
    "from scripts.transformer_prediction_interface import transformer_predict, get_params_from_config, load_model_workflow\n",
    "\n",
    "from scripts.model_configs import *\n",
    "\n",
    "from datasets import load_openml_list, open_cc_dids, open_cc_valid_dids\n",
    "from priors.utils import plot_prior, plot_features\n",
    "from priors.utils import uniform_int_sampler_f\n",
    "\n",
    "from scripts.tabular_metrics import calculate_score_per_method, calculate_score\n",
    "# No string\n",
    "#from scripts.tabular_evaluation import evaluate\n",
    "\n",
    "from priors.differentiable_prior import DifferentiableHyperparameterList, draw_random_style, merge_style_with_info\n",
    "from scripts import tabular_metrics\n",
    "from notebook_utils import *"
   ]
  },
  {
   "cell_type": "code",
   "execution_count": 3,
   "metadata": {},
   "outputs": [],
   "source": [
    "large_datasets = True\n",
    "max_samples = 10000 if large_datasets else 5000\n",
    "bptt = 10000 if large_datasets else 3000\n",
    "suite='cc'"
   ]
  },
  {
   "cell_type": "code",
   "execution_count": 4,
   "metadata": {},
   "outputs": [],
   "source": [
    "device = 'cpu'\n",
    "base_path = '.'\n",
    "max_features = 93"
   ]
  },
  {
   "cell_type": "code",
   "execution_count": 5,
   "metadata": {},
   "outputs": [],
   "source": [
    "def print_models(model_string):\n",
    "    print(model_string)\n",
    "\n",
    "    for i in range(80):\n",
    "        for e in range(50):\n",
    "            exists = Path(os.path.join(base_path, f'models_diff/prior_diff_real_checkpoint{model_string}_n_{i}_epoch_{e}.cpkt')).is_file()\n",
    "            if exists:\n",
    "                print(os.path.join(base_path, f'models_diff/prior_diff_real_checkpoint{model_string}_n_{i}_epoch_{e}.cpkt'))\n",
    "        print()"
   ]
  },
  {
   "cell_type": "code",
   "execution_count": 6,
   "metadata": {},
   "outputs": [],
   "source": [
    "def train_function(config_sample, i, add_name=''):\n",
    "    start_time = time.time()\n",
    "    N_epochs_to_save = 50\n",
    "    \n",
    "    def save_callback(model, epoch):\n",
    "        if not hasattr(model, 'last_saved_epoch'):\n",
    "            model.last_saved_epoch = 0\n",
    "        if ((time.time() - start_time) / (maximum_runtime * 60 / N_epochs_to_save)) > model.last_saved_epoch:\n",
    "            print('Saving model..')\n",
    "            config_sample['epoch_in_training'] = epoch\n",
    "            save_model(model, base_path, f'models_diff/prior_diff_real_checkpoint{add_name}_n_{i}_epoch_{model.last_saved_epoch}.cpkt',\n",
    "                           config_sample)\n",
    "            model.last_saved_epoch = model.last_saved_epoch + 1 # TODO: Rename to checkpoint\n",
    "    \n",
    "    model = get_model(config_sample\n",
    "                      , device\n",
    "                      , should_train=True\n",
    "                      , verbose=1\n",
    "                      , epoch_callback = save_callback)\n",
    "    \n",
    "    return"
   ]
  },
  {
   "cell_type": "markdown",
   "metadata": {
    "tags": []
   },
   "source": [
    "## Define prior settings"
   ]
  },
  {
   "cell_type": "code",
   "execution_count": 7,
   "metadata": {
    "scrolled": true
   },
   "outputs": [],
   "source": [
    "def reload_config(config_type='causal', task_type='multiclass', longer=0):\n",
    "    config = get_prior_config(config_type=config_type)\n",
    "    \n",
    "    config['prior_type'], config['differentiable'], config['flexible'] = 'mlp', True, True\n",
    "    \n",
    "    model_string = ''\n",
    "    \n",
    "    config['epochs'] = 12000\n",
    "    config['recompute_attn'] = False\n",
    "\n",
    "    config['max_num_classes'] = 10\n",
    "    config['num_classes'] = uniform_int_sampler_f(2, config['max_num_classes'])\n",
    "    config['balanced'] = False\n",
    "    model_string = model_string + '_multiclass'\n",
    "    \n",
    "    model_string = model_string + '_'+datetime.now().strftime(\"%m_%d_%Y_%H_%M_%S\")\n",
    "    \n",
    "    return config, model_string"
   ]
  },
  {
   "cell_type": "markdown",
   "metadata": {
    "tags": []
   },
   "source": [
    "## Visualize Prior samples"
   ]
  },
  {
   "cell_type": "code",
   "execution_count": 8,
   "metadata": {
    "tags": []
   },
   "outputs": [],
   "source": [
    "config, model_string = reload_config(longer=1)\n",
    "\n",
    "config['bptt_extra_samples'] = None\n",
    "\n",
    "# diff\n",
    "config['output_multiclass_ordered_p'] = 0.\n",
    "del config['differentiable_hyperparameters']['output_multiclass_ordered_p']\n",
    "\n",
    "config['multiclass_type'] = 'rank'\n",
    "del config['differentiable_hyperparameters']['multiclass_type']\n",
    "\n",
    "config['sampling'] = 'normal' # vielleicht schlecht?\n",
    "del config['differentiable_hyperparameters']['sampling']\n",
    "\n",
    "config['pre_sample_causes'] = True\n",
    "# end diff\n",
    "\n",
    "config['multiclass_loss_type'] = 'nono' # 'compatible'\n",
    "config['normalize_to_ranking'] = False # False\n",
    "\n",
    "config['categorical_feature_p'] = .2 # diff: .0\n",
    "\n",
    "# turn this back on in a random search!?\n",
    "config['nan_prob_no_reason'] = .0\n",
    "config['nan_prob_unknown_reason'] = .0 # diff: .0\n",
    "config['set_value_to_nan'] = .1 # diff: 1.\n",
    "\n",
    "config['normalize_with_sqrt'] = False\n",
    "\n",
    "config['new_mlp_per_example'] = True\n",
    "config['prior_mlp_scale_weights_sqrt'] = True\n",
    "config['batch_size_per_gp_sample'] = None\n",
    "\n",
    "config['normalize_ignore_label_too'] = False\n",
    "\n",
    "config['differentiable_hps_as_style'] = False\n",
    "config['max_eval_pos'] = 1000\n",
    "\n",
    "config['random_feature_rotation'] = True\n",
    "config['rotate_normalized_labels'] = True\n",
    "\n",
    "config[\"mix_activations\"] = False # False heisst eig True\n",
    "\n",
    "config['emsize'] = 512 # 512 in the paper\n",
    "config['emsize_f'] = 100\n",
    "config['nhead'] = config['emsize'] // 8 \n",
    "config['bptt'] = 1024+128\n",
    "config['canonical_y_encoder'] = False\n",
    "\n",
    "    \n",
    "config['aggregate_k_gradients'] = 8\n",
    "config['batch_size'] = 1 * config['aggregate_k_gradients']\n",
    "config['num_steps'] = 1024//config['aggregate_k_gradients']\n",
    "config['epochs'] = 400\n",
    "config['total_available_time_in_s'] = None #60*60*22 # 22 hours for some safety...\n",
    "\n",
    "config['train_mixed_precision'] = True\n",
    "config['efficient_eval_masking'] = True\n",
    "\n",
    "config_sample = evaluate_hypers(config)"
   ]
  },
  {
   "cell_type": "code",
   "execution_count": 9,
   "metadata": {},
   "outputs": [
    {
     "name": "stdout",
     "output_type": "stream",
     "text": [
      "skipping\n"
     ]
    }
   ],
   "source": [
    "%%script echo skipping\n",
    "\n",
    "config_sample['batch_size'] = 4\n",
    "model = get_model(config_sample, device, should_train=False, verbose=2) # , state_dict=model[2].state_dict()\n",
    "(hp_embedding, data, _), targets, single_eval_pos = next(iter(model[3]))\n",
    "\n",
    "from utils import normalize_data\n",
    "fig = plt.figure(figsize=(8, 8))\n",
    "N = 100\n",
    "plot_features(data[0:N, 0, 0:4], targets[0:N, 0], fig=fig)\n",
    "\n",
    "d = np.concatenate([data[:, 0, :].T, np.expand_dims(targets[:, 0], -1).T])\n",
    "d[np.isnan(d)] = 0\n",
    "c = np.corrcoef(d)\n",
    "plt.matshow(np.abs(c), vmin=0, vmax=1)\n",
    "plt.show()"
   ]
  },
  {
   "cell_type": "markdown",
   "metadata": {
    "tags": []
   },
   "source": [
    "## Training"
   ]
  },
  {
   "cell_type": "code",
   "execution_count": 10,
   "metadata": {},
   "outputs": [
    {
     "name": "stdout",
     "output_type": "stream",
     "text": [
      "Using style prior: True\n",
      "Using cpu:0 device\n",
      "Using a Transformer with 13.76 M parameters\n",
      "style_src.shape torch.Size([1152, 1, 7]) and x_src.shape torch.Size([1152, 1, 100])\n",
      "num_ft 107\n",
      "style_src after embedding torch.Size([1152, 1, 56])\n",
      "x_src after embedding torch.Size([1152, 1, 800])\n",
      "y_src after embedding torch.Size([1152, 1, 800])\n",
      "torch.Size([0]) torch.Size([1152, 1, 56]) torch.Size([740, 1, 800]) torch.Size([412, 1, 800])\n",
      "Size of src_temp_1:torch.Size([1152, 1, 800])\n",
      "Size of src_temp_2:torch.Size([1152, 1, 856])\n",
      "Size of src_temp_3:torch.Size([1152, 1, 856])\n",
      "Size of src:torch.Size([107, 1152, 8])\n",
      "Dimensions of src_: torch.Size([107, 1152, 8])\n",
      "src_: torch.Size([107, 1152, 8])\n",
      "src1 embedded, ready for passing into inter_feature_attn: torch.Size([107, 1152, 100])\n",
      "src1 after FF torch.Size([107, 1152, 8])\n",
      "src1 after pre_norm_ torch.Size([107, 1152, 8])\n",
      "src_left torch.Size([107, 1152, 512])\n",
      "src_right torch.Size([0, 1152, 512])\n",
      "passed through TransformerEncoderLayer()\n",
      "Dimensions of src_: torch.Size([107, 1152, 8])\n",
      "src_: torch.Size([107, 1152, 8])\n",
      "src1 embedded, ready for passing into inter_feature_attn: torch.Size([107, 1152, 100])\n",
      "src1 after FF torch.Size([107, 1152, 8])\n",
      "src1 after pre_norm_ torch.Size([107, 1152, 8])\n"
     ]
    }
   ],
   "source": [
    "model = get_model(config_sample, device, should_train=True, verbose=1)"
   ]
  },
  {
   "cell_type": "code",
   "execution_count": null,
   "metadata": {},
   "outputs": [
    {
     "data": {
      "text/plain": [
       "(inf,\n",
       " inf,\n",
       " TransformerModel(\n",
       "   (transformer_encoder): TransformerEncoderDiffInit(\n",
       "     (layers): ModuleList(\n",
       "       (0): TransformerEncoderLayer(\n",
       "         (self_attn): MultiheadAttention(\n",
       "           (out_proj): NonDynamicallyQuantizableLinear(in_features=256, out_features=256, bias=True)\n",
       "         )\n",
       "         (pre_linear1): Linear(in_features=1, out_features=100, bias=True)\n",
       "         (inter_feature_attn): MultiheadAttention(\n",
       "           (out_proj): NonDynamicallyQuantizableLinear(in_features=100, out_features=100, bias=True)\n",
       "         )\n",
       "         (pre_linear2): Linear(in_features=100, out_features=512, bias=True)\n",
       "         (pre_linear3): Linear(in_features=512, out_features=1, bias=True)\n",
       "         (pre_norm_): LayerNorm((100,), eps=1e-05, elementwise_affine=True)\n",
       "         (pre_dropout): Dropout(p=0.0, inplace=False)\n",
       "         (pre_linear4): Linear(in_features=100, out_features=512, bias=True)\n",
       "         (pre_linear5): Linear(in_features=512, out_features=256, bias=True)\n",
       "         (linear1): Linear(in_features=256, out_features=512, bias=True)\n",
       "         (dropout): Dropout(p=0.0, inplace=False)\n",
       "         (linear2): Linear(in_features=512, out_features=100, bias=True)\n",
       "         (norm1): LayerNorm((256,), eps=1e-05, elementwise_affine=True)\n",
       "         (norm2): LayerNorm((100,), eps=1e-05, elementwise_affine=True)\n",
       "         (dropout1): Dropout(p=0.0, inplace=False)\n",
       "         (dropout2): Dropout(p=0.0, inplace=False)\n",
       "       )\n",
       "       (1): TransformerEncoderLayer(\n",
       "         (self_attn): MultiheadAttention(\n",
       "           (out_proj): NonDynamicallyQuantizableLinear(in_features=256, out_features=256, bias=True)\n",
       "         )\n",
       "         (pre_linear1): Linear(in_features=1, out_features=100, bias=True)\n",
       "         (inter_feature_attn): MultiheadAttention(\n",
       "           (out_proj): NonDynamicallyQuantizableLinear(in_features=100, out_features=100, bias=True)\n",
       "         )\n",
       "         (pre_linear2): Linear(in_features=100, out_features=512, bias=True)\n",
       "         (pre_linear3): Linear(in_features=512, out_features=1, bias=True)\n",
       "         (pre_norm_): LayerNorm((100,), eps=1e-05, elementwise_affine=True)\n",
       "         (pre_dropout): Dropout(p=0.0, inplace=False)\n",
       "         (pre_linear4): Linear(in_features=100, out_features=512, bias=True)\n",
       "         (pre_linear5): Linear(in_features=512, out_features=256, bias=True)\n",
       "         (linear1): Linear(in_features=256, out_features=512, bias=True)\n",
       "         (dropout): Dropout(p=0.0, inplace=False)\n",
       "         (linear2): Linear(in_features=512, out_features=100, bias=True)\n",
       "         (norm1): LayerNorm((256,), eps=1e-05, elementwise_affine=True)\n",
       "         (norm2): LayerNorm((100,), eps=1e-05, elementwise_affine=True)\n",
       "         (dropout1): Dropout(p=0.0, inplace=False)\n",
       "         (dropout2): Dropout(p=0.0, inplace=False)\n",
       "       )\n",
       "       (2): TransformerEncoderLayer(\n",
       "         (self_attn): MultiheadAttention(\n",
       "           (out_proj): NonDynamicallyQuantizableLinear(in_features=256, out_features=256, bias=True)\n",
       "         )\n",
       "         (pre_linear1): Linear(in_features=1, out_features=100, bias=True)\n",
       "         (inter_feature_attn): MultiheadAttention(\n",
       "           (out_proj): NonDynamicallyQuantizableLinear(in_features=100, out_features=100, bias=True)\n",
       "         )\n",
       "         (pre_linear2): Linear(in_features=100, out_features=512, bias=True)\n",
       "         (pre_linear3): Linear(in_features=512, out_features=1, bias=True)\n",
       "         (pre_norm_): LayerNorm((100,), eps=1e-05, elementwise_affine=True)\n",
       "         (pre_dropout): Dropout(p=0.0, inplace=False)\n",
       "         (pre_linear4): Linear(in_features=100, out_features=512, bias=True)\n",
       "         (pre_linear5): Linear(in_features=512, out_features=256, bias=True)\n",
       "         (linear1): Linear(in_features=256, out_features=512, bias=True)\n",
       "         (dropout): Dropout(p=0.0, inplace=False)\n",
       "         (linear2): Linear(in_features=512, out_features=100, bias=True)\n",
       "         (norm1): LayerNorm((256,), eps=1e-05, elementwise_affine=True)\n",
       "         (norm2): LayerNorm((100,), eps=1e-05, elementwise_affine=True)\n",
       "         (dropout1): Dropout(p=0.0, inplace=False)\n",
       "         (dropout2): Dropout(p=0.0, inplace=False)\n",
       "       )\n",
       "       (3): TransformerEncoderLayer(\n",
       "         (self_attn): MultiheadAttention(\n",
       "           (out_proj): NonDynamicallyQuantizableLinear(in_features=256, out_features=256, bias=True)\n",
       "         )\n",
       "         (pre_linear1): Linear(in_features=1, out_features=100, bias=True)\n",
       "         (inter_feature_attn): MultiheadAttention(\n",
       "           (out_proj): NonDynamicallyQuantizableLinear(in_features=100, out_features=100, bias=True)\n",
       "         )\n",
       "         (pre_linear2): Linear(in_features=100, out_features=512, bias=True)\n",
       "         (pre_linear3): Linear(in_features=512, out_features=1, bias=True)\n",
       "         (pre_norm_): LayerNorm((100,), eps=1e-05, elementwise_affine=True)\n",
       "         (pre_dropout): Dropout(p=0.0, inplace=False)\n",
       "         (pre_linear4): Linear(in_features=100, out_features=512, bias=True)\n",
       "         (pre_linear5): Linear(in_features=512, out_features=256, bias=True)\n",
       "         (linear1): Linear(in_features=256, out_features=512, bias=True)\n",
       "         (dropout): Dropout(p=0.0, inplace=False)\n",
       "         (linear2): Linear(in_features=512, out_features=100, bias=True)\n",
       "         (norm1): LayerNorm((256,), eps=1e-05, elementwise_affine=True)\n",
       "         (norm2): LayerNorm((100,), eps=1e-05, elementwise_affine=True)\n",
       "         (dropout1): Dropout(p=0.0, inplace=False)\n",
       "         (dropout2): Dropout(p=0.0, inplace=False)\n",
       "       )\n",
       "       (4): TransformerEncoderLayer(\n",
       "         (self_attn): MultiheadAttention(\n",
       "           (out_proj): NonDynamicallyQuantizableLinear(in_features=256, out_features=256, bias=True)\n",
       "         )\n",
       "         (pre_linear1): Linear(in_features=1, out_features=100, bias=True)\n",
       "         (inter_feature_attn): MultiheadAttention(\n",
       "           (out_proj): NonDynamicallyQuantizableLinear(in_features=100, out_features=100, bias=True)\n",
       "         )\n",
       "         (pre_linear2): Linear(in_features=100, out_features=512, bias=True)\n",
       "         (pre_linear3): Linear(in_features=512, out_features=1, bias=True)\n",
       "         (pre_norm_): LayerNorm((100,), eps=1e-05, elementwise_affine=True)\n",
       "         (pre_dropout): Dropout(p=0.0, inplace=False)\n",
       "         (pre_linear4): Linear(in_features=100, out_features=512, bias=True)\n",
       "         (pre_linear5): Linear(in_features=512, out_features=256, bias=True)\n",
       "         (linear1): Linear(in_features=256, out_features=512, bias=True)\n",
       "         (dropout): Dropout(p=0.0, inplace=False)\n",
       "         (linear2): Linear(in_features=512, out_features=100, bias=True)\n",
       "         (norm1): LayerNorm((256,), eps=1e-05, elementwise_affine=True)\n",
       "         (norm2): LayerNorm((100,), eps=1e-05, elementwise_affine=True)\n",
       "         (dropout1): Dropout(p=0.0, inplace=False)\n",
       "         (dropout2): Dropout(p=0.0, inplace=False)\n",
       "       )\n",
       "       (5): TransformerEncoderLayer(\n",
       "         (self_attn): MultiheadAttention(\n",
       "           (out_proj): NonDynamicallyQuantizableLinear(in_features=256, out_features=256, bias=True)\n",
       "         )\n",
       "         (pre_linear1): Linear(in_features=1, out_features=100, bias=True)\n",
       "         (inter_feature_attn): MultiheadAttention(\n",
       "           (out_proj): NonDynamicallyQuantizableLinear(in_features=100, out_features=100, bias=True)\n",
       "         )\n",
       "         (pre_linear2): Linear(in_features=100, out_features=512, bias=True)\n",
       "         (pre_linear3): Linear(in_features=512, out_features=1, bias=True)\n",
       "         (pre_norm_): LayerNorm((100,), eps=1e-05, elementwise_affine=True)\n",
       "         (pre_dropout): Dropout(p=0.0, inplace=False)\n",
       "         (pre_linear4): Linear(in_features=100, out_features=512, bias=True)\n",
       "         (pre_linear5): Linear(in_features=512, out_features=256, bias=True)\n",
       "         (linear1): Linear(in_features=256, out_features=512, bias=True)\n",
       "         (dropout): Dropout(p=0.0, inplace=False)\n",
       "         (linear2): Linear(in_features=512, out_features=100, bias=True)\n",
       "         (norm1): LayerNorm((256,), eps=1e-05, elementwise_affine=True)\n",
       "         (norm2): LayerNorm((100,), eps=1e-05, elementwise_affine=True)\n",
       "         (dropout1): Dropout(p=0.0, inplace=False)\n",
       "         (dropout2): Dropout(p=0.0, inplace=False)\n",
       "       )\n",
       "     )\n",
       "   )\n",
       "   (encoder): Linear(in_features=100, out_features=100, bias=True)\n",
       "   (y_encoder): Linear(in_features=1, out_features=100, bias=True)\n",
       "   (pos_encoder): NoPositionalEncoding()\n",
       "   (decoder): Sequential(\n",
       "     (0): Linear(in_features=100, out_features=512, bias=True)\n",
       "     (1): GELU()\n",
       "     (2): Linear(in_features=512, out_features=10, bias=True)\n",
       "   )\n",
       "   (criterion): CrossEntropyLoss()\n",
       " ),\n",
       " <priors.utils.get_batch_to_dataloader.<locals>.DL at 0x7fe4b8828610>)"
      ]
     },
     "execution_count": 12,
     "metadata": {},
     "output_type": "execute_result"
    }
   ],
   "source": [
    "model"
   ]
  },
  {
   "cell_type": "code",
   "execution_count": null,
   "metadata": {},
   "outputs": [],
   "source": []
  }
 ],
 "metadata": {
  "kernelspec": {
   "display_name": "DL_project",
   "language": "python",
   "name": "python3"
  },
  "language_info": {
   "codemirror_mode": {
    "name": "ipython",
    "version": 3
   },
   "file_extension": ".py",
   "mimetype": "text/x-python",
   "name": "python",
   "nbconvert_exporter": "python",
   "pygments_lexer": "ipython3",
   "version": "3.7.3 | packaged by conda-forge | (default, Mar 27 2019, 15:43:19) \n[Clang 4.0.1 (tags/RELEASE_401/final)]"
  },
  "vscode": {
   "interpreter": {
    "hash": "4e0db07081617c9a6eca3dcd9ae8397d12b2119e3e97abe44125c2c5f990a5fd"
   }
  }
 },
 "nbformat": 4,
 "nbformat_minor": 4
}
